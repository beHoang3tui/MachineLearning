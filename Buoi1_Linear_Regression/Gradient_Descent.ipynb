{
  "nbformat": 4,
  "nbformat_minor": 0,
  "metadata": {
    "colab": {
      "name": "Gradient_Descent.ipynb",
      "provenance": []
    },
    "kernelspec": {
      "name": "python3",
      "display_name": "Python 3"
    },
    "language_info": {
      "name": "python"
    }
  },
  "cells": [
    {
      "cell_type": "code",
      "execution_count": 1,
      "metadata": {
        "id": "wBRJPDFlges1"
      },
      "outputs": [],
      "source": [
        "import math\n",
        "import numpy as np\n",
        "import matplotlib.pyplot as plt"
      ]
    },
    {
      "cell_type": "code",
      "source": [
        "def grad(x):\n",
        "    return 2*x+ 5*np.cos(x)\n",
        "\n",
        "def cost(x):\n",
        "    return x**2 + 5*np.sin(x)\n",
        "\n",
        "def myGD1(eta, x0):\n",
        "    x = [x0]\n",
        "    for it in range(100):\n",
        "        x_new = x[-1] - eta*grad(x[-1])\n",
        "        if abs(grad(x_new)) < 1e-3:\n",
        "            break\n",
        "        x.append(x_new)\n",
        "    return (x, it)"
      ],
      "metadata": {
        "id": "DXOQMfXKko9V"
      },
      "execution_count": 2,
      "outputs": []
    },
    {
      "cell_type": "code",
      "source": [
        "(x1, it1) = myGD1(.1, -5)\n",
        "(x2, it2) = myGD1(.1, 5)"
      ],
      "metadata": {
        "id": "nKgyPeU4kuFr"
      },
      "execution_count": 3,
      "outputs": []
    },
    {
      "cell_type": "code",
      "source": [
        "print('giá trị làm cho hàm số đạt min trong trường hợp 1 là : ', x1[-1] , \" với số lần thử là : \", it1)\n",
        "print('giá trị làm cho hàm số đạt min trong trường hợp 1 là : ', x2[-1] , \" với số lần thử là : \", it2)"
      ],
      "metadata": {
        "colab": {
          "base_uri": "https://localhost:8080/"
        },
        "id": "iN1rp5iRt9Vx",
        "outputId": "b27aac9f-a073-4ffc-b1a6-76fc7f976fb8"
      },
      "execution_count": 21,
      "outputs": [
        {
          "output_type": "stream",
          "name": "stdout",
          "text": [
            "giá trị làm cho hàm số đạt min trong trường hợp 1 là :  -1.1106667365268623  với số lần thử là :  11\n",
            "giá trị làm cho hàm số đạt min trong trường hợp 1 là :  -1.1103410483948122  với số lần thử là :  29\n"
          ]
        }
      ]
    },
    {
      "cell_type": "code",
      "source": [
        "y1 = []\n",
        "y2 = []\n",
        "for i in x1:\n",
        "  y1.append(cost(i))\n",
        "for j in x2:\n",
        "  y2.append(cost(j))"
      ],
      "metadata": {
        "id": "6B2SzzUYoT9o"
      },
      "execution_count": 16,
      "outputs": []
    },
    {
      "cell_type": "code",
      "source": [
        "plt.plot(x1, y1)"
      ],
      "metadata": {
        "colab": {
          "base_uri": "https://localhost:8080/",
          "height": 282
        },
        "id": "lfNvNwrLpOgS",
        "outputId": "fab87cd3-3d1b-467b-f7f6-18a003b7dd05"
      },
      "execution_count": 17,
      "outputs": [
        {
          "output_type": "execute_result",
          "data": {
            "text/plain": [
              "[<matplotlib.lines.Line2D at 0x7fab04e8c210>]"
            ]
          },
          "metadata": {},
          "execution_count": 17
        },
        {
          "output_type": "display_data",
          "data": {
            "image/png": "[encoded data removed]",
            "text/plain": [
              "<Figure size 432x288 with 1 Axes>"
            ]
          },
          "metadata": {
            "needs_background": "light"
          }
        }
      ]
    },
    {
      "cell_type": "code",
      "source": [
        "plt.plot(x2, y2)"
      ],
      "metadata": {
        "colab": {
          "base_uri": "https://localhost:8080/",
          "height": 282
        },
        "id": "pG6xOHlOq_sY",
        "outputId": "0fe71b2f-e4fe-4ec5-ef96-702d179d7dcf"
      },
      "execution_count": 18,
      "outputs": [
        {
          "output_type": "execute_result",
          "data": {
            "text/plain": [
              "[<matplotlib.lines.Line2D at 0x7fab04e09210>]"
            ]
          },
          "metadata": {},
          "execution_count": 18
        },
        {
          "output_type": "display_data",
          "data": {
            "image/png": "[encoded data removed]",
            "text/plain": [
              "<Figure size 432x288 with 1 Axes>"
            ]
          },
          "metadata": {
            "needs_background": "light"
          }
        }
      ]
    },
    {
      "cell_type": "code",
      "source": [
        "x= []\n",
        "y = []\n",
        "for i in range(-10 , 10):\n",
        "  x.append(i)\n",
        "  y.append(cost(i))\n",
        "\n",
        "plt.plot(x,y)"
      ],
      "metadata": {
        "colab": {
          "base_uri": "https://localhost:8080/",
          "height": 282
        },
        "id": "j35_NRV-pwtz",
        "outputId": "6986610f-c966-4cfa-8afd-28e276041f86"
      },
      "execution_count": 20,
      "outputs": [
        {
          "output_type": "execute_result",
          "data": {
            "text/plain": [
              "[<matplotlib.lines.Line2D at 0x7fab04d65750>]"
            ]
          },
          "metadata": {},
          "execution_count": 20
        },
        {
          "output_type": "display_data",
          "data": {
            "image/png": "[encoded data removed]",
            "text/plain": [
              "<Figure size 432x288 with 1 Axes>"
            ]
          },
          "metadata": {
            "needs_background": "light"
          }
        }
      ]
    }
  ]
}