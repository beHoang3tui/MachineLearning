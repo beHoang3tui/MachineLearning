{
  "nbformat": 4,
  "nbformat_minor": 0,
  "metadata": {
    "colab": {
      "name": "Model.ipynb",
      "provenance": [],
      "collapsed_sections": []
    },
    "kernelspec": {
      "name": "python3",
      "display_name": "Python 3"
    },
    "language_info": {
      "name": "python"
    }
  },
  "cells": [
    {
      "cell_type": "code",
      "execution_count": 1,
      "metadata": {
        "id": "ocT9JktTasR8"
      },
      "outputs": [],
      "source": [
        "from keras.layers import Conv2D,MaxPooling2D, MaxPool2D, AveragePooling2D\n",
        "from keras.layers import Dense, Dropout, Activation, Flatten, BatchNormalization, Input\n",
        "from tensorflow.keras import Sequential "
      ]
    },
    {
      "cell_type": "markdown",
      "source": [
        "# **LeNet**"
      ],
      "metadata": {
        "id": "pam_IRrVf9Tx"
      }
    },
    {
      "cell_type": "code",
      "source": [
        "model = Sequential()\n",
        "\n",
        "model.add(Conv2D ( input_shape = (28,28,1) , filters= 6   , kernel_size=(5,5) , strides=1 , padding='same' , activation=\"sigmoid\" ))\n",
        "model.add(MaxPool2D ( pool_size= (2,2), strides= (2,2) ))\n",
        "\n",
        "model.add(Conv2D ( filters =  16 , kernel_size=(5,5) , strides=1  , activation=\"sigmoid\" ))\n",
        "model.add(MaxPool2D ( pool_size= (2,2), strides= (2,2) ))\n",
        "\n",
        "model.add(Flatten())\n",
        "model.add(Dense( units = 120 , activation= 'sigmoid'))\n",
        "model.add(Dense( units = 84 , activation= 'sigmoid'))\n",
        "model.add(Dense( units = 10 , activation= 'softmax'))\n",
        "\n",
        "model.summary()"
      ],
      "metadata": {
        "colab": {
          "base_uri": "https://localhost:8080/"
        },
        "id": "CxZvQJBja7Tu",
        "outputId": "9ba8903c-a644-4850-930e-c87282b3d89d"
      },
      "execution_count": 10,
      "outputs": [
        {
          "output_type": "stream",
          "name": "stdout",
          "text": [
            "Model: \"sequential_3\"\n",
            "_________________________________________________________________\n",
            " Layer (type)                Output Shape              Param #   \n",
            "=================================================================\n",
            " conv2d_6 (Conv2D)           (None, 28, 28, 6)         156       \n",
            "                                                                 \n",
            " max_pooling2d_6 (MaxPooling  (None, 14, 14, 6)        0         \n",
            " 2D)                                                             \n",
            "                                                                 \n",
            " conv2d_7 (Conv2D)           (None, 10, 10, 16)        2416      \n",
            "                                                                 \n",
            " max_pooling2d_7 (MaxPooling  (None, 5, 5, 16)         0         \n",
            " 2D)                                                             \n",
            "                                                                 \n",
            " flatten_2 (Flatten)         (None, 400)               0         \n",
            "                                                                 \n",
            " dense_6 (Dense)             (None, 120)               48120     \n",
            "                                                                 \n",
            " dense_7 (Dense)             (None, 84)                10164     \n",
            "                                                                 \n",
            " dense_8 (Dense)             (None, 10)                850       \n",
            "                                                                 \n",
            "=================================================================\n",
            "Total params: 61,706\n",
            "Trainable params: 61,706\n",
            "Non-trainable params: 0\n",
            "_________________________________________________________________\n"
          ]
        }
      ]
    },
    {
      "cell_type": "code",
      "source": [
        ""
      ],
      "metadata": {
        "id": "lY7vp5c0f665"
      },
      "execution_count": null,
      "outputs": []
    },
    {
      "cell_type": "markdown",
      "source": [
        "# **AlexNet**"
      ],
      "metadata": {
        "id": "4Kol9wewgAfg"
      }
    },
    {
      "cell_type": "code",
      "source": [
        "model = Sequential()\n",
        "model.add(Input(shape = (224,224,3)))\n",
        "\n",
        "model.add(Conv2D( 96 , (11,11 ) , strides= 4 , activation='relu' ))\n",
        "model.add(MaxPool2D ( pool_size= (3,3) ,strides= 2))\n",
        "\n",
        "model.add(Conv2D( 256 , (5 ,5 ) , padding= 'same' , activation='relu' ))\n",
        "model.add(MaxPool2D ( pool_size= (3,3) ,strides= 2))\n",
        "\n",
        "model.add(Conv2D( 384 , (11,11 ), padding= 'same' , strides= 1 , activation='relu' ))\n",
        "model.add(Conv2D( 384 , (11,11 ), padding= 'same' , strides= 1 , activation='relu' ))\n",
        "model.add(Conv2D( 256 , (11,11 ), padding= 'same' , strides= 1 , activation='relu' ))\n",
        "model.add(MaxPool2D ( pool_size= (3,3) ,strides= 2))\n",
        "\n",
        "model.add(Flatten())\n",
        "model.add(Dense(units= 4096 , activation= 'relu'))\n",
        "model.add(Dropout(0,5))\n",
        "model.add(Dense(units= 4096 , activation= 'relu'))\n",
        "model.add(Dropout(0,5))\n",
        "model.add(Dense(units= 1000 , activation= 'softmax'))\n",
        "\n",
        "model.summary()"
      ],
      "metadata": {
        "colab": {
          "base_uri": "https://localhost:8080/"
        },
        "id": "vWd-H5tYgEUu",
        "outputId": "6fc31832-b324-4e54-9f31-5d750091351a"
      },
      "execution_count": 11,
      "outputs": [
        {
          "output_type": "stream",
          "name": "stdout",
          "text": [
            "Model: \"sequential_4\"\n",
            "_________________________________________________________________\n",
            " Layer (type)                Output Shape              Param #   \n",
            "=================================================================\n",
            " conv2d_8 (Conv2D)           (None, 54, 54, 96)        34944     \n",
            "                                                                 \n",
            " max_pooling2d_8 (MaxPooling  (None, 26, 26, 96)       0         \n",
            " 2D)                                                             \n",
            "                                                                 \n",
            " conv2d_9 (Conv2D)           (None, 26, 26, 256)       614656    \n",
            "                                                                 \n",
            " max_pooling2d_9 (MaxPooling  (None, 12, 12, 256)      0         \n",
            " 2D)                                                             \n",
            "                                                                 \n",
            " conv2d_10 (Conv2D)          (None, 12, 12, 384)       11895168  \n",
            "                                                                 \n",
            " conv2d_11 (Conv2D)          (None, 12, 12, 384)       17842560  \n",
            "                                                                 \n",
            " conv2d_12 (Conv2D)          (None, 12, 12, 256)       11895040  \n",
            "                                                                 \n",
            " max_pooling2d_10 (MaxPoolin  (None, 5, 5, 256)        0         \n",
            " g2D)                                                            \n",
            "                                                                 \n",
            " flatten_3 (Flatten)         (None, 6400)              0         \n",
            "                                                                 \n",
            " dense_9 (Dense)             (None, 4096)              26218496  \n",
            "                                                                 \n",
            " dropout (Dropout)           (None, 4096)              0         \n",
            "                                                                 \n",
            " dense_10 (Dense)            (None, 4096)              16781312  \n",
            "                                                                 \n",
            " dropout_1 (Dropout)         (None, 4096)              0         \n",
            "                                                                 \n",
            " dense_11 (Dense)            (None, 1000)              4097000   \n",
            "                                                                 \n",
            "=================================================================\n",
            "Total params: 89,379,176\n",
            "Trainable params: 89,379,176\n",
            "Non-trainable params: 0\n",
            "_________________________________________________________________\n"
          ]
        }
      ]
    }
  ]
}